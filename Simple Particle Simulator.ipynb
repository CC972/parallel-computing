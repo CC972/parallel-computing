{
 "cells": [
  {
   "cell_type": "markdown",
   "metadata": {},
   "source": [
    "# Simple Particle Simulator"
   ]
  },
  {
   "cell_type": "markdown",
   "metadata": {},
   "source": [
    "Assume we have $N$ particles with strength $k_j > 0$ at the positions $x_j\\in\\mathbb{R}^2$, $j=0,\\dots, N-1$. Each particle creates a potential at a given point $x$ of strength $V_j(x) = -k_j\\log |x-x_j|$. The total potential at a given position $x$ is therefore\n",
    "$$\n",
    "V(x) = -\\sum_{j=0}^{N-1}k_j\\log|x-x_j|.\n",
    "$$"
   ]
  },
  {
   "cell_type": "markdown",
   "metadata": {},
   "source": [
    "The following code generates $N$ particle positions and a vector of associated strengths."
   ]
  },
  {
   "cell_type": "code",
   "execution_count": 1,
   "metadata": {},
   "outputs": [
    {
     "name": "stdout",
     "output_type": "stream",
     "text": [
      "Fetching package metadata .............\n",
      "Solving package specifications: .\n",
      "\n",
      "Package plan for installation in environment /home/nbuser/anaconda3_420:\n",
      "\n",
      "The following NEW packages will be INSTALLED:\n",
      "\n",
      "    appdirs:      1.4.3-py_1            conda-forge\n",
      "    clangdev:     6.0.1-default_1       conda-forge\n",
      "    libhwloc:     2.0.2-0               conda-forge\n",
      "    libtool:      2.4.6-h14c3975_1002   conda-forge\n",
      "    llvm-meta:    6.0.1-0               conda-forge\n",
      "    llvmdev:      6.0.1-h6bb024c_1002   conda-forge\n",
      "    mako:         1.0.7-py_1            conda-forge\n",
      "    ocl-icd:      2.2.12-h14c3975_1002  conda-forge\n",
      "    pocl:         1.2-h6bb024c_1002     conda-forge\n",
      "    pyopencl:     2018.2-py35h81a3be6_1 conda-forge\n",
      "    pytools:      2019.1-py_0           conda-forge\n",
      "    readline:     7.0-ha6073c6_4                   \n",
      "    system:       5.8-2                            \n",
      "\n",
      "The following packages will be UPDATED:\n",
      "\n",
      "    conda:        4.3.31-py35_0                     --> 4.5.11-py35_0           conda-forge\n",
      "    libgcc-ng:    7.2.0-h7cc24e2_2                  --> 7.3.0-hdf63c60_0        conda-forge\n",
      "    libstdcxx-ng: 7.2.0-h7a57d05_2                  --> 7.3.0-hdf63c60_0        conda-forge\n",
      "    pycosat:      0.6.1-py35_1                      --> 0.6.3-py35h14c3975_1001 conda-forge\n",
      "\n",
      "The following packages will be SUPERSEDED by a higher-priority channel:\n",
      "\n",
      "    conda-env:    2.6.0-h36134e3_1                  --> 2.6.0-1                 conda-forge\n",
      "\n",
      "()\n",
      "\n",
      "===> UNLINKING PACKAGE: defaults::conda-4.3.31-py35_0 <===\n",
      "  prefix=/home/nbuser/anaconda3_420\n",
      "\n",
      "\n",
      "===> UNLINKING PACKAGE: defaults::conda-env-2.6.0-h36134e3_1 <===\n",
      "  prefix=/home/nbuser/anaconda3_420\n",
      "\n",
      "\n",
      "===> UNLINKING PACKAGE: defaults::libgcc-ng-7.2.0-h7cc24e2_2 <===\n",
      "  prefix=/home/nbuser/anaconda3_420\n",
      "\n",
      "\n",
      "===> UNLINKING PACKAGE: defaults::libstdcxx-ng-7.2.0-h7a57d05_2 <===\n",
      "  prefix=/home/nbuser/anaconda3_420\n",
      "\n",
      "\n",
      "===> UNLINKING PACKAGE: defaults::pycosat-0.6.1-py35_1 <===\n",
      "  prefix=/home/nbuser/anaconda3_420\n",
      "\n",
      "\n",
      "===> LINKING PACKAGE: conda-forge::conda-env-2.6.0-1 <===\n",
      "  prefix=/home/nbuser/anaconda3_420\n",
      "  source=/home/nbuser/anaconda3_420/pkgs/conda-env-2.6.0-1\n",
      "\n",
      "\n",
      "===> LINKING PACKAGE: conda-forge::libgcc-ng-7.3.0-hdf63c60_0 <===\n",
      "  prefix=/home/nbuser/anaconda3_420\n",
      "  source=/home/nbuser/anaconda3_420/pkgs/libgcc-ng-7.3.0-hdf63c60_0\n",
      "\n",
      "\n",
      "===> LINKING PACKAGE: conda-forge::libstdcxx-ng-7.3.0-hdf63c60_0 <===\n",
      "  prefix=/home/nbuser/anaconda3_420\n",
      "  source=/home/nbuser/anaconda3_420/pkgs/libstdcxx-ng-7.3.0-hdf63c60_0\n",
      "\n",
      "\n",
      "===> LINKING PACKAGE: conda-forge::llvm-meta-6.0.1-0 <===\n",
      "  prefix=/home/nbuser/anaconda3_420\n",
      "  source=/home/nbuser/anaconda3_420/pkgs/llvm-meta-6.0.1-0\n",
      "\n",
      "\n",
      "===> LINKING PACKAGE: defaults::system-5.8-2 <===\n",
      "  prefix=/home/nbuser/anaconda3_420\n",
      "  source=/home/nbuser/anaconda3_420/pkgs/system-5.8-2\n",
      "\n",
      "\n",
      "===> LINKING PACKAGE: conda-forge::libtool-2.4.6-h14c3975_1002 <===\n",
      "  prefix=/home/nbuser/anaconda3_420\n",
      "  source=/home/nbuser/anaconda3_420/pkgs/libtool-2.4.6-h14c3975_1002\n",
      "\n",
      "\n",
      "===> LINKING PACKAGE: conda-forge::llvmdev-6.0.1-h6bb024c_1002 <===\n",
      "  prefix=/home/nbuser/anaconda3_420\n",
      "  source=/home/nbuser/anaconda3_420/pkgs/llvmdev-6.0.1-h6bb024c_1002\n",
      "\n",
      "\n",
      "===> LINKING PACKAGE: conda-forge::ocl-icd-2.2.12-h14c3975_1002 <===\n",
      "  prefix=/home/nbuser/anaconda3_420\n",
      "  source=/home/nbuser/anaconda3_420/pkgs/ocl-icd-2.2.12-h14c3975_1002\n",
      "\n",
      "\n",
      "===> LINKING PACKAGE: defaults::readline-7.0-ha6073c6_4 <===\n",
      "  prefix=/home/nbuser/anaconda3_420\n",
      "  source=/home/nbuser/anaconda3_420/pkgs/readline-7.0-ha6073c6_4\n",
      "\n",
      "\n",
      "===> LINKING PACKAGE: conda-forge::clangdev-6.0.1-default_1 <===\n",
      "  prefix=/home/nbuser/anaconda3_420\n",
      "  source=/home/nbuser/anaconda3_420/pkgs/clangdev-6.0.1-default_1\n",
      "\n",
      "\n",
      "===> LINKING PACKAGE: conda-forge::libhwloc-2.0.2-0 <===\n",
      "  prefix=/home/nbuser/anaconda3_420\n",
      "  source=/home/nbuser/anaconda3_420/pkgs/libhwloc-2.0.2-0\n",
      "\n",
      "\n",
      "===> LINKING PACKAGE: conda-forge::pocl-1.2-h6bb024c_1002 <===\n",
      "  prefix=/home/nbuser/anaconda3_420\n",
      "  source=/home/nbuser/anaconda3_420/pkgs/pocl-1.2-h6bb024c_1002\n",
      "\n",
      "\n",
      "===> LINKING PACKAGE: conda-forge::appdirs-1.4.3-py_1 <===\n",
      "  prefix=/home/nbuser/anaconda3_420\n",
      "  source=/home/nbuser/anaconda3_420/pkgs/appdirs-1.4.3-py_1\n",
      "\n",
      "\n",
      "===> LINKING PACKAGE: conda-forge::pycosat-0.6.3-py35h14c3975_1001 <===\n",
      "  prefix=/home/nbuser/anaconda3_420\n",
      "  source=/home/nbuser/anaconda3_420/pkgs/pycosat-0.6.3-py35h14c3975_1001\n",
      "\n",
      "\n",
      "===> LINKING PACKAGE: conda-forge::mako-1.0.7-py_1 <===\n",
      "  prefix=/home/nbuser/anaconda3_420\n",
      "  source=/home/nbuser/anaconda3_420/pkgs/mako-1.0.7-py_1\n",
      "\n",
      "\n",
      "===> LINKING PACKAGE: conda-forge::pytools-2019.1-py_0 <===\n",
      "  prefix=/home/nbuser/anaconda3_420\n",
      "  source=/home/nbuser/anaconda3_420/pkgs/pytools-2019.1-py_0\n",
      "\n",
      "\n",
      "===> LINKING PACKAGE: conda-forge::pyopencl-2018.2-py35h81a3be6_1 <===\n",
      "  prefix=/home/nbuser/anaconda3_420\n",
      "  source=/home/nbuser/anaconda3_420/pkgs/pyopencl-2018.2-py35h81a3be6_1\n",
      "\n",
      "\n",
      "===> LINKING PACKAGE: conda-forge::conda-4.5.11-py35_0 <===\n",
      "  prefix=/home/nbuser/anaconda3_420\n",
      "  source=/home/nbuser/anaconda3_420/pkgs/conda-4.5.11-py35_0\n",
      "\n",
      "\n"
     ]
    }
   ],
   "source": [
    "!conda install -c conda-forge --yes --verbose pyopencl pocl"
   ]
  },
  {
   "cell_type": "code",
   "execution_count": 2,
   "metadata": {},
   "outputs": [],
   "source": [
    "import numpy as np\n",
    "from numba import jit\n",
    "\n",
    "N = 100  # Number of particles\n",
    "\n",
    "# Generate random state from seed 0\n",
    "rand = np.random.RandomState(0)\n",
    "pos = rand.rand(N, 2)  # Particle positions\n",
    "k = rand.rand(N)  # Potential strengths"
   ]
  },
  {
   "cell_type": "code",
   "execution_count": 3,
   "metadata": {},
   "outputs": [],
   "source": [
    "import pyopencl as cl\n",
    "ctx = cl.create_some_context()\n",
    "queue = cl.CommandQueue(ctx)"
   ]
  },
  {
   "cell_type": "markdown",
   "metadata": {},
   "source": [
    "We can plot the corresponding particle positions."
   ]
  },
  {
   "cell_type": "code",
   "execution_count": 4,
   "metadata": {
    "scrolled": true
   },
   "outputs": [
    {
     "name": "stderr",
     "output_type": "stream",
     "text": [
      "/home/nbuser/anaconda3_420/lib/python3.5/site-packages/matplotlib/font_manager.py:281: UserWarning: Matplotlib is building the font cache using fc-list. This may take a moment.\n",
      "  'Matplotlib is building the font cache using fc-list. '\n"
     ]
    },
    {
     "data": {
      "image/png": "[encoded data removed]",
      "text/plain": [
       "<matplotlib.figure.Figure at 0x7fac088dde48>"
      ]
     },
     "metadata": {},
     "output_type": "display_data"
    }
   ],
   "source": [
    "from matplotlib import pyplot as plt\n",
    "%matplotlib inline  \n",
    "fig = plt.figure(figsize=(10, 10))\n",
    "ax = fig.add_subplot(111)\n",
    "ax.plot(pos[:, 0], pos[:, 1], 'k.', markersize=4)\n",
    "ax.set_aspect('equal')"
   ]
  },
  {
   "cell_type": "markdown",
   "metadata": {},
   "source": [
    "The following evaluates the potential field at a given set of points:"
   ]
  },
  {
   "cell_type": "code",
   "execution_count": 5,
   "metadata": {},
   "outputs": [],
   "source": [
    "def evaluate_field(evaluation_points, source_positions, strength_vector, implementation='numba'):\n",
    "    \"\"\"\n",
    "    Evaluate a field at a given set of points.\n",
    "\n",
    "    Parameters\n",
    "    ------------\n",
    "    evaluation_points : np.ndarray\n",
    "        A (M, 2) float64 array of M positions that contain the \n",
    "        two dimensional points at which to evaluate the field.\n",
    "    source_positions : np.ndarray\n",
    "        A (N, 2) float64 array of N source positions that contain\n",
    "        the source locations\n",
    "    strength_vector : np.ndarray\n",
    "        A (N, ) float64 array of the strengths associated with\n",
    "        each source.\n",
    "    implementaiton : string\n",
    "        Either 'numba' or 'opencl' to use a Numba or OpenCL\n",
    "        implementation.\n",
    "\n",
    "    Returns\n",
    "    -------------\n",
    "    A (M, ) float64 vector of the field values at the corresponding\n",
    "    evaluation points.\n",
    "\n",
    "    \"\"\"\n",
    "\n",
    "    if implementation == 'numba':\n",
    "        return np.asarray(evaluate_field_numba(evaluation_points, source_positions, strength_vector))\n",
    "\n",
    "    elif implementation == 'opencl':\n",
    "        return np.asarray(evaluate_field_opencl(evaluation_points, source_positions, strength_vector))\n",
    "\n",
    "\n",
    "@jit(nopython=True)  # Ensures only Numba-supported subset of Numpy is used\n",
    "def evaluate_field_numba(evaluation_points, source_positions, strength_vector):\n",
    "    \"\"\"Numba Implementation\"\"\"\n",
    "\n",
    "    # Result array of total potential at each evaluation point\n",
    "    evaluation_potentials = []\n",
    "\n",
    "    for e in range(0, len(evaluation_points)):\n",
    "\n",
    "        # Cumulative potential at current evaluation point\n",
    "        running_potential = 0\n",
    "\n",
    "        for p in range(0, len(source_positions)):\n",
    "\n",
    "            # Distance between evaluation and particle position\n",
    "            distance = np.sqrt((evaluation_points[e][0] - source_positions[p][0]) ** 2\n",
    "                               + (evaluation_points[e][1] - source_positions[p][1]) ** 2)\n",
    "\n",
    "            # Ensure evalaution and particle position do not coincide to prevent log(0) error\n",
    "            if distance > 0:\n",
    "                running_potential -= strength_vector[p] * np.log(distance)\n",
    "\n",
    "        # Store total potential in result array\n",
    "        evaluation_potentials.append(running_potential)\n",
    "\n",
    "    return evaluation_potentials\n",
    "\n",
    "\n",
    "def evaluate_field_opencl(evaluation_points, source_positions, strength_vector):\n",
    "    \"\"\"OpenCL Implementation\"\"\"\n",
    "\n",
    "    kernel = \"\"\"\n",
    "    \n",
    "    __kernel void evaluate_potential(__global double *evaluationPoints,\n",
    "                                     __global double *sourcePoints,\n",
    "                                     __global double *strengthVector,\n",
    "                                     __global double *evaluationPotentials,\n",
    "                                     const int numberOfParticles)\n",
    "    {\n",
    "    \n",
    "    // Row in evaluationPotentials results array\n",
    "    int globalRow = get_global_id(0); \n",
    "    \n",
    "    // Initialise variables for intermediate steps in calculations\n",
    "    double runningPotential = 0; // Cumulative potential at evaluation point\n",
    "    double distance = 0; // Distance between source and evaluation point\n",
    "       \n",
    "    // Iterate through each particle \n",
    "    for (int i = 0; i < numberOfParticles; i ++) {\n",
    "\n",
    "        // Distance between evaluation and source point \n",
    "        distance = sqrt(pow(evaluationPoints[2*globalRow] - sourcePoints[2*i], 2) \n",
    "                        + pow(evaluationPoints[2*globalRow + 1] - sourcePoints[2*i + 1], 2));\n",
    "        \n",
    "        // Check for non-zero distance to prevent log(0) error\n",
    "        if (distance > 0) {\n",
    "            runningPotential -= strengthVector[i] * log(distance);\n",
    "        }\n",
    "    \n",
    "    }\n",
    "\n",
    "    // Store total potential in results array\n",
    "    evaluationPotentials[globalRow] = runningPotential;\n",
    "\n",
    "    }\n",
    "    \n",
    "    \"\"\"\n",
    "\n",
    "    # Number of evaluation and source points \n",
    "    n_eval_points = evaluation_points.shape[0]\n",
    "    n_source_positions = source_positions.shape[0]\n",
    "\n",
    "    mf = cl.mem_flags\n",
    "\n",
    "    # Set up buffers \n",
    "    eval_buffer = cl.Buffer(ctx, mf.COPY_HOST_PTR |\n",
    "                            mf.READ_ONLY, hostbuf=evaluation_points.ravel())\n",
    "    source_buffer = cl.Buffer(ctx, mf.COPY_HOST_PTR |\n",
    "                              mf.READ_ONLY, hostbuf=source_positions)\n",
    "    strength_buffer = cl.Buffer(ctx, mf.COPY_HOST_PTR | \n",
    "                                mf.READ_ONLY, hostbuf=strength_vector)\n",
    "    result_buffer = cl.Buffer(ctx, mf.ALLOC_HOST_PTR,\n",
    "                              size=evaluation_points.shape[0] * 8)\n",
    "\n",
    "    prg = cl.Program(ctx, kernel)\n",
    "    prg.build()\n",
    "    potential_kernel = prg.evaluate_potential\n",
    "\n",
    "    potential_kernel(queue, (n_eval_points, ), (1, ), eval_buffer,\n",
    "                     source_buffer, strength_buffer, result_buffer, np.int32(N))\n",
    "\n",
    "    result, _ = cl.enqueue_map_buffer(queue, result_buffer, cl.map_flags.READ, \n",
    "                                      0, (n_eval_points, ), np.double)\n",
    "\n",
    "    queue.finish()\n",
    "\n",
    "    return result"
   ]
  },
  {
   "cell_type": "code",
   "execution_count": 6,
   "metadata": {},
   "outputs": [
    {
     "name": "stdout",
     "output_type": "stream",
     "text": [
      "[-12.04897855 -26.74485914]\n",
      "[-12.04897855 -26.74485914]\n"
     ]
    }
   ],
   "source": [
    "# Generate test evaluation points\n",
    "evaluation_points = np.array([[1.5, 1.3], [1.8, 1.6]], dtype='float64')\n",
    "\n",
    "# Calculate corresponding total potentials using both implementations\n",
    "result_numba = evaluate_field(evaluation_points, pos, k, implementation='numba')\n",
    "result_opencl = evaluate_field(evaluation_points, pos, k, implementation='opencl')\n",
    "\n",
    "print(result_numba)\n",
    "print(result_opencl)"
   ]
  },
  {
   "cell_type": "markdown",
   "metadata": {},
   "source": [
    "Finally, we want to make timing measurements and also plot the results. Let us define a grid of evaluation points in the unit square."
   ]
  },
  {
   "cell_type": "code",
   "execution_count": 7,
   "metadata": {},
   "outputs": [],
   "source": [
    "# Generate 100 by 100 grid of evaluation points within the unit square\n",
    "Nx = 100\n",
    "Ny = 100\n",
    "xpoints, ypoints = np.mgrid[0: 1: 1j * Nx, 0: 1: 1j * Ny]\n",
    "evaluation_points = np.vstack([xpoints.ravel(), ypoints.ravel()]).T"
   ]
  },
  {
   "cell_type": "code",
   "execution_count": 8,
   "metadata": {},
   "outputs": [],
   "source": [
    "import time\n",
    "\n",
    "class Timer:\n",
    "    def __enter__(self):\n",
    "        self.start = time.time()\n",
    "        return self\n",
    "\n",
    "    def __exit__(self, *args):\n",
    "        self.end = time.time()\n",
    "        self.interval = self.end - self.start"
   ]
  },
  {
   "cell_type": "markdown",
   "metadata": {},
   "source": [
    "Now run the following two timing experiments:"
   ]
  },
  {
   "cell_type": "code",
   "execution_count": 12,
   "metadata": {},
   "outputs": [
    {
     "name": "stdout",
     "output_type": "stream",
     "text": [
      "0.24021077156066895\n",
      "1.3819949626922607\n"
     ]
    }
   ],
   "source": [
    "with Timer() as t:\n",
    "    result_numba = evaluate_field(evaluation_points, pos, k, implementation='numba')\n",
    "print(t.interval)\n",
    "\n",
    "with Timer() as t:\n",
    "    result_opencl = evaluate_field(evaluation_points, pos, k, implementation='opencl')\n",
    "print(t.interval)"
   ]
  },
  {
   "cell_type": "markdown",
   "metadata": {},
   "source": [
    "Finally, we want to plot the results. We plot the logs since the result will be large close to the poles."
   ]
  },
  {
   "cell_type": "code",
   "execution_count": 13,
   "metadata": {},
   "outputs": [],
   "source": [
    "result_numba = np.log10(np.abs(result_numba.reshape(Nx, Ny)))\n",
    "result_opencl = np.log10(np.abs(result_opencl.reshape(Nx, Ny)))"
   ]
  },
  {
   "cell_type": "code",
   "execution_count": 14,
   "metadata": {},
   "outputs": [
    {
     "data": {
      "text/plain": [
       "Text(0.5,1,'OpenCL')"
      ]
     },
     "execution_count": 14,
     "metadata": {},
     "output_type": "execute_result"
    },
    {
     "data": {
      "image/png": "[encoded data removed]",
      "text/plain": [
       "<matplotlib.figure.Figure at 0x7fac063bad30>"
      ]
     },
     "metadata": {},
     "output_type": "display_data"
    }
   ],
   "source": [
    "# Set up figures\n",
    "figure = plt.figure(figsize=(20, 20))\n",
    "ax1 = figure.add_subplot(121)\n",
    "ax2 = figure.add_subplot(122)\n",
    "\n",
    "# Plot Numba results\n",
    "ax1.imshow(result_numba.T, extent=[0, 1, 0, 1], origin='lower')\n",
    "ax1.set_aspect('equal')\n",
    "ax1.set_title('Numba')\n",
    "\n",
    "# Plot OpenCL results\n",
    "ax2.imshow(result_opencl.T, extent=[0, 1, 0, 1], origin='lower')\n",
    "ax2.set_aspect('equal')\n",
    "ax2.set_title('OpenCL')"
   ]
  }
 ],
 "metadata": {
  "kernelspec": {
   "display_name": "Python 3",
   "language": "python",
   "name": "python3"
  },
  "language_info": {
   "codemirror_mode": {
    "name": "ipython",
    "version": 3
   },
   "file_extension": ".py",
   "mimetype": "text/x-python",
   "name": "python",
   "nbconvert_exporter": "python",
   "pygments_lexer": "ipython3",
   "version": "3.8.5"
  }
 },
 "nbformat": 4,
 "nbformat_minor": 2
}
